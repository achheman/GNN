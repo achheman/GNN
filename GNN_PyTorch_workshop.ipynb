{
  "cells": [
    {
      "cell_type": "markdown",
      "metadata": {
        "id": "view-in-github",
        "colab_type": "text"
      },
      "source": [
        "<a href=\"https://colab.research.google.com/github/achheman/GNN/blob/main/GNN_PyTorch_workshop.ipynb\" target=\"_parent\"><img src=\"https://colab.research.google.com/assets/colab-badge.svg\" alt=\"Open In Colab\"/></a>"
      ]
    },
    {
      "cell_type": "markdown",
      "metadata": {
        "id": "cG4IY_a1dbKt"
      },
      "source": [
        "# Node Classification using GNN"
      ]
    },
    {
      "cell_type": "markdown",
      "metadata": {
        "id": "QP724fH0dySA"
      },
      "source": [
        "### Install torch"
      ]
    },
    {
      "cell_type": "code",
      "execution_count": null,
      "metadata": {
        "id": "B4EL67Xlc4Q8"
      },
      "outputs": [],
      "source": [
        "!pip install -q torch"
      ]
    },
    {
      "cell_type": "markdown",
      "metadata": {
        "id": "ubecV_KTeUMA"
      },
      "source": [
        "### Install PyTorch Geometric"
      ]
    },
    {
      "cell_type": "code",
      "execution_count": null,
      "metadata": {
        "id": "NLxy2PE0eaEm"
      },
      "outputs": [],
      "source": [
        "import os\n",
        "import torch\n",
        "os.environ['TORCH'] = torch.__version__\n",
        "os.environ['PYTHONWARNINGS'] = \"ignore\"\n",
        "!pip install torch-scatter -f https://data.pyg.org/whl/torch-${TORCH}.html\n",
        "!pip install torch-sparse -f https://data.pyg.org/whl/torch-${TORCH}.html\n",
        "!pip install git+https://github.com/pyg-team/pytorch_geometric.git"
      ]
    },
    {
      "cell_type": "markdown",
      "metadata": {
        "id": "Us08oSCjefDi"
      },
      "source": [
        "### Ingest Planetoid Cora dataset"
      ]
    },
    {
      "cell_type": "code",
      "execution_count": null,
      "metadata": {
        "id": "FnJWGFt8ew8L"
      },
      "outputs": [],
      "source": [
        "from torch_geometric.datasets import Planetoid\n",
        "from torch_geometric.transforms import NormalizeFeatures\n",
        "\n",
        "dataset = Planetoid(root='data/Planetoid', name='Cora', transform=NormalizeFeatures())\n",
        "\n",
        "print(f'Dataset: {dataset}:')\n",
        "print('======================')\n",
        "print(f'Number of graphs: {len(dataset)}')\n",
        "print(f'Number of features: {dataset.num_features}')\n",
        "print(f'Number of classes: {dataset.num_classes}')\n",
        "\n",
        "node_id = 0\n",
        "node_class = int(data.y[node_id])\n",
        "print(f\"Class of node {node_id}: {node_class}\")\n",
        "\n",
        "data = dataset[0]  # Get the first graph object.\n",
        "print(data)"
      ]
    },
    {
      "cell_type": "markdown",
      "metadata": {
        "id": "5W4I5elBL7Dh"
      },
      "source": [
        "    Categories of classes in the graph:\n",
        "    \n",
        "    0: \"Neural_Networks\",\n",
        "    1: \"Rule_Learning\",\n",
        "    2: \"Reinforcement_Learning\",\n",
        "    3: \"Probabilistic_Methods\",\n",
        "    4: \"Theory\",\n",
        "    5: \"Genetic_Algorithms\",\n",
        "    6: \"Case_Based_Reasoning\""
      ]
    },
    {
      "cell_type": "markdown",
      "metadata": {
        "id": "mbrUMtJDEG_j"
      },
      "source": [
        "### Training a Graph Neural Network (GNN)"
      ]
    },
    {
      "cell_type": "code",
      "execution_count": null,
      "metadata": {
        "id": "-Q7dPY6KEZkQ"
      },
      "outputs": [],
      "source": [
        "from torch_geometric.nn import GCNConv\n",
        "import torch.nn.functional as F\n",
        "\n",
        "class GCN(torch.nn.Module):\n",
        "    def __init__(self, hidden_channels):\n",
        "        super().__init__()\n",
        "        torch.manual_seed(1234567)\n",
        "        self.conv1 = GCNConv(dataset.num_features, hidden_channels)\n",
        "        # TODO Start: Create 2nd Graph convolution layer\n",
        "        # TODO End: Create 2nd Graph convolution layer\n",
        "\n",
        "    def forward(self, x, edge_index):\n",
        "        x = self.conv1(x, edge_index)\n",
        "        x = x.relu()\n",
        "        x = F.dropout(x, p=0.5, training=self.training)\n",
        "        x = self.conv2(x, edge_index)\n",
        "        return x\n",
        "\n",
        "# TODO Start: Create model with 16 hidden channels\n",
        "# TODO End: Create model with 16 hidden channels\n",
        "print(model)"
      ]
    },
    {
      "cell_type": "markdown",
      "metadata": {
        "id": "4kmdmL7cExEl"
      },
      "source": [
        "### Visualizing Untrained GCN network"
      ]
    },
    {
      "cell_type": "code",
      "execution_count": null,
      "metadata": {
        "id": "SJaK3BMOE1Ov"
      },
      "outputs": [],
      "source": [
        "%matplotlib inline\n",
        "import matplotlib.pyplot as plt\n",
        "from sklearn.manifold import TSNE\n",
        "\n",
        "def visualize(h, color):\n",
        "    z = TSNE(n_components=2).fit_transform(h.detach().cpu().numpy())\n",
        "\n",
        "    plt.figure(figsize=(10,10))\n",
        "    plt.xticks([])\n",
        "    plt.yticks([])\n",
        "\n",
        "    plt.scatter(z[:, 0], z[:, 1], s=70, c=color, cmap=\"Set2\")\n",
        "    plt.show()\n",
        "\n",
        "\n",
        "    model.eval()\n",
        "\n",
        "    out = model(data.x, data.edge_index)\n",
        "    visualize(out, color=data.y)"
      ]
    },
    {
      "cell_type": "markdown",
      "metadata": {
        "id": "bVU98wKNFEod"
      },
      "source": [
        "### Training a model"
      ]
    },
    {
      "cell_type": "code",
      "execution_count": null,
      "metadata": {
        "id": "VzManmG1FIKP"
      },
      "outputs": [],
      "source": [
        "model = GCN(hidden_channels=16)\n",
        "optimizer = torch.optim.Adam(model.parameters(), lr=0.01, weight_decay=5e-4)\n",
        "criterion = torch.nn.CrossEntropyLoss()\n",
        "\n",
        "def train():\n",
        "      model.train()\n",
        "      optimizer.zero_grad()\n",
        "      out = model(data.x, data.edge_index)\n",
        "      loss = criterion(predictedArg, expectedArg) #TODO fill predictedArg and expectedArg\n",
        "      loss.backward()\n",
        "      optimizer.step()\n",
        "      return loss\n",
        "\n",
        "def test():\n",
        "      model.eval()\n",
        "      out = model(data.x, data.edge_index)\n",
        "      pred = out.argmax(dim=1)\n",
        "\n",
        "      #TODO compute test data correctness\n",
        "\n",
        "      test_correct = predictedArg == expectedArg  #TODO fill predictedArg and expectedArg\n",
        "      test_acc = int(test_correct.sum()) / int(data.test_mask.sum())\n",
        "      return test_acc\n",
        "\n",
        "\n",
        "for epoch in range(1, 101):\n",
        "    loss = train()\n",
        "    print(f'Epoch: {epoch:03d}, Loss: {loss:.4f}')"
      ]
    },
    {
      "cell_type": "markdown",
      "metadata": {
        "id": "hV1H5UgsFPUp"
      },
      "source": [
        "### Evaluate model on unseen data (Test data)"
      ]
    },
    {
      "cell_type": "code",
      "execution_count": null,
      "metadata": {
        "id": "HU5MSwg5FTfT"
      },
      "outputs": [],
      "source": [
        "test_acc = test()\n",
        "print(f'Test Accuracy: {test_acc:.4f}')"
      ]
    },
    {
      "cell_type": "markdown",
      "metadata": {
        "id": "hOFMtovDFXla"
      },
      "source": [
        "### Visualise the output"
      ]
    },
    {
      "cell_type": "code",
      "execution_count": null,
      "metadata": {
        "id": "cOSB40IgGDBR"
      },
      "outputs": [],
      "source": [
        "model.eval()\n",
        "out = model(data.x, data.edge_index)\n",
        "visualize(out, color=data.y)"
      ]
    },
    {
      "cell_type": "markdown",
      "source": [
        "### Further Improvements\n",
        "\n",
        "1. Use a different conv like GATConv\n",
        "2. Modify dropouts and hidden channels to see different outputs"
      ],
      "metadata": {
        "id": "EqqJnI7FhsI8"
      }
    }
  ],
  "metadata": {
    "colab": {
      "provenance": [],
      "include_colab_link": true
    },
    "kernelspec": {
      "display_name": "Python 3",
      "name": "python3"
    },
    "language_info": {
      "name": "python"
    }
  },
  "nbformat": 4,
  "nbformat_minor": 0
}